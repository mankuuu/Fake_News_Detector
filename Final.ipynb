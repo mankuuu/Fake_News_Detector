{
 "cells": [
  {
   "cell_type": "code",
   "execution_count": 1,
   "id": "17c17a9b-6f3f-44bc-bf06-c559dd0991a0",
   "metadata": {},
   "outputs": [],
   "source": [
    "import pandas as pd\n",
    "import numpy as np\n",
    "import matplotlib.pyplot as plt\n",
    "import seaborn as sbs\n",
    "import re\n",
    "from nltk.corpus import stopwords\n",
    "from nltk.stem.porter import PorterStemmer\n",
    "from sklearn.feature_extraction.text import TfidfVectorizer\n",
    "from sklearn.model_selection import train_test_split, StratifiedKFold, cross_val_score\n",
    "from sklearn.metrics import confusion_matrix, ConfusionMatrixDisplay, log_loss, classification_report, accuracy_score,  roc_auc_score, roc_curve, auc\n",
    "from sklearn.ensemble import RandomForestClassifier\n",
    "from sklearn.linear_model import LogisticRegression\n",
    "from sklearn.ensemble import GradientBoostingClassifier\n",
    "from sklearn.model_selection import GridSearchCV\n",
    "import pickle\n",
    "from sklearn.pipeline import Pipeline\n",
    "from sklearn.preprocessing import FunctionTransformer\n",
    "import plotly.express as px\n",
    "import plotly.graph_objects as go\n",
    "import scipy.sparse\n",
    "import dill as pickle\n",
    "import joblib"
   ]
  },
  {
   "cell_type": "markdown",
   "id": "c581b522-f020-41c1-be60-e93177c6d39a",
   "metadata": {},
   "source": [
    "<h1 align = center >Importing Data</h1>"
   ]
  },
  {
   "cell_type": "code",
   "execution_count": 2,
   "id": "f9e2c166-c614-4992-86ec-1a39eff46744",
   "metadata": {},
   "outputs": [],
   "source": [
    "train_input = scipy.sparse.load_npz(\"xv_train.npz\")\n",
    "test_input = scipy.sparse.load_npz(\"xv_test.npz\")\n",
    "y_test = pd.read_parquet(\"test_targets.parquet\").values\n",
    "y_train = pd.read_parquet(\"train_targets.parquet\").values"
   ]
  },
  {
   "cell_type": "markdown",
   "id": "146d61fa-d1f6-4136-833b-087104411b12",
   "metadata": {},
   "source": [
    "<h1 align = center >Importing the functions and models</h1>"
   ]
  },
  {
   "cell_type": "code",
   "execution_count": 3,
   "id": "d56e84d6-f1fa-41f0-ac23-1af956360310",
   "metadata": {},
   "outputs": [],
   "source": [
    "port_stemmer= PorterStemmer()"
   ]
  },
  {
   "cell_type": "code",
   "execution_count": 4,
   "id": "4b4618e1-8595-4f0a-809e-09324beccd99",
   "metadata": {},
   "outputs": [
    {
     "name": "stderr",
     "output_type": "stream",
     "text": [
      "[nltk_data] Downloading package stopwords to\n",
      "[nltk_data]     C:\\Users\\mayan\\AppData\\Roaming\\nltk_data...\n",
      "[nltk_data]   Package stopwords is already up-to-date!\n"
     ]
    },
    {
     "data": {
      "text/plain": [
       "True"
      ]
     },
     "execution_count": 4,
     "metadata": {},
     "output_type": "execute_result"
    }
   ],
   "source": [
    "import nltk\n",
    "nltk.download('stopwords')"
   ]
  },
  {
   "cell_type": "code",
   "execution_count": 5,
   "id": "d3b9f47c-b42d-4324-ac7a-92fee5b9a5fb",
   "metadata": {},
   "outputs": [],
   "source": [
    "with open(\"reuters_removal.pkl\" , \"rb\") as file:\n",
    "    reuters_removal = pickle.load(file)"
   ]
  },
  {
   "cell_type": "code",
   "execution_count": 6,
   "id": "6b9855a9-c1ed-4ef1-85ce-10adc6578981",
   "metadata": {},
   "outputs": [],
   "source": [
    "with open(\"stemmer.pkl\" , \"rb\") as file:\n",
    "    stemmer = pickle.load(file)"
   ]
  },
  {
   "cell_type": "code",
   "execution_count": 7,
   "id": "696abbe6-72cd-4043-869d-21ee073b6ab8",
   "metadata": {},
   "outputs": [],
   "source": [
    "model = joblib.load(\"news_detector.joblib\")"
   ]
  },
  {
   "cell_type": "code",
   "execution_count": 8,
   "id": "8a8b977a-cc0b-4ef9-8238-a3eef5f2046c",
   "metadata": {},
   "outputs": [],
   "source": [
    "rfc_model = model['rfc_model']\n",
    "gbm_model = model['gbm']\n",
    "lgr_model = model['lgr']\n",
    "vectorization = model['vectorizer']"
   ]
  },
  {
   "cell_type": "code",
   "execution_count": 9,
   "id": "48f1c40f-310e-4857-99d2-4c04e76583c6",
   "metadata": {},
   "outputs": [
    {
     "data": {
      "text/plain": [
       "0.9806444394719177"
      ]
     },
     "execution_count": 9,
     "metadata": {},
     "output_type": "execute_result"
    }
   ],
   "source": [
    "preds = lgr_model.predict(test_input)\n",
    "accuracy_score(y_test , preds)"
   ]
  },
  {
   "cell_type": "markdown",
   "id": "0de8cdb9-fb96-4387-85bc-f64924ee7287",
   "metadata": {},
   "source": [
    "<h1 align = center > Manual Testing</h1>"
   ]
  },
  {
   "cell_type": "code",
   "execution_count": 10,
   "id": "48b4b141-3305-4569-ac43-d65fb1cc9f1c",
   "metadata": {},
   "outputs": [],
   "source": [
    "with open(\"manual_tester.pkl\", \"rb\") as file :\n",
    "    manual_tester = pickle.load(file)"
   ]
  },
  {
   "cell_type": "code",
   "execution_count": 13,
   "id": "1d790e66-b488-45ec-882a-212e31832a59",
   "metadata": {},
   "outputs": [],
   "source": [
    "sample = \"\"\"WikiLeaks founder Julian Assange, who has fought extradition for years to avoid facing charges for releasing an enormous trove of classified information about U.S. military activity in Iraq and Afghanistan, has agreed to plead guilty to violating the Espionage Act, according to federal court records.\n",
    "\n",
    "Under the terms of the plea with U.S. prosecutors, Assange will get no more detention time than the 62 months he has already served in the United Kingdom. Assange is set to be released to Australia, his country of citizenship, after a Tuesday court proceeding is over, according to federal records.\"\"\""
   ]
  },
  {
   "cell_type": "code",
   "execution_count": 14,
   "id": "cde52f50-7546-498a-b8d5-69c083f9bd0c",
   "metadata": {},
   "outputs": [
    {
     "data": {
      "text/plain": [
       "('True', 'True', 'Fake')"
      ]
     },
     "execution_count": 14,
     "metadata": {},
     "output_type": "execute_result"
    }
   ],
   "source": [
    "manual_tester(sample)"
   ]
  },
  {
   "cell_type": "code",
   "execution_count": null,
   "id": "1588b4bb-b81c-4402-bb2b-84d046033eb0",
   "metadata": {},
   "outputs": [],
   "source": []
  }
 ],
 "metadata": {
  "kernelspec": {
   "display_name": "Python 3 (ipykernel)",
   "language": "python",
   "name": "python3"
  },
  "language_info": {
   "codemirror_mode": {
    "name": "ipython",
    "version": 3
   },
   "file_extension": ".py",
   "mimetype": "text/x-python",
   "name": "python",
   "nbconvert_exporter": "python",
   "pygments_lexer": "ipython3",
   "version": "3.12.3"
  }
 },
 "nbformat": 4,
 "nbformat_minor": 5
}
